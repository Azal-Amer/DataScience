{
 "metadata": {
  "language_info": {
   "codemirror_mode": {
    "name": "ipython",
    "version": 3
   },
   "file_extension": ".py",
   "mimetype": "text/x-python",
   "name": "python",
   "nbconvert_exporter": "python",
   "pygments_lexer": "ipython3",
   "version": "3.9.1-final"
  },
  "orig_nbformat": 2,
  "kernelspec": {
   "name": "python3",
   "display_name": "Python 3.9.1 64-bit",
   "metadata": {
    "interpreter": {
     "hash": "03b31e0dbf5ee774e49906e1a4e99cf39d3bc46df0e15af7b9d16b1e9b24f047"
    }
   }
  }
 },
 "nbformat": 4,
 "nbformat_minor": 2,
 "cells": [
  {
   "cell_type": "code",
   "execution_count": 28,
   "metadata": {},
   "outputs": [],
   "source": [
    "import csv\n",
    "from numpy import genfromtxt\n",
    "from numpy import loadtxt\n",
    "import numpy as np\n",
    "import os\n",
    "def readCSVToNumpyArray(dataset):\n",
    "        values = [[]]\n",
    "        with open(dataset) as f:\n",
    "            counter = 0\n",
    "            for i in csv.reader(f):\n",
    "                for j in i:\n",
    "                    try:\n",
    "                        values[counter].append(float(j))\n",
    "                    except ValueError:\n",
    "                        values[counter].append(j)\n",
    "                counter = counter + 1\n",
    "                values.append([])\n",
    "\n",
    "        data = np.array(values[:-1],dtype='object')\n",
    "\n",
    "        return data"
   ]
  },
  {
   "cell_type": "code",
   "execution_count": 38,
   "metadata": {},
   "outputs": [],
   "source": [
    "def collumbIsolate(numpyArray,countryData):\n",
    "    print (len(numpyArray))\n",
    "    for i in range(len(numpyArray)-1):\n",
    "        countryName = numpyArray[i+1][3]\n",
    "        countryData[countryName] = 0\n",
    "    for i in range(len(numpyArray)-1):\n",
    "\n",
    "        tempValue = numpyArray[i+1][7]\n",
    "\n",
    "        countryName = numpyArray[i+1][3]\n",
    "        if isinstance(tempValue,str):\n",
    "\n",
    "            tempValue = 0\n",
    "\n",
    "        countryData[countryName] = countryData[countryName] + tempValue\n",
    "    return countryData"
   ]
  },
  {
   "cell_type": "code",
   "execution_count": 50,
   "metadata": {
    "tags": []
   },
   "outputs": [
    {
     "output_type": "stream",
     "name": "stdout",
     "text": [
      "[]\n3978\n"
     ]
    }
   ],
   "source": [
    "#Create a dictionary with keys of (filename-.csv), which contains a dictionary of keys wiht country, with values of confirmed cases\n",
    "#Open a folder\n",
    "#Read each file in the folder, with ther names\n",
    "#Delete everything but the confirmed case count and the location columbs\n",
    "#Convert to numpy object\n",
    "# Add up the data from difff states (see mian project for function by Ryan)\n",
    "# Write data to a dictionary with key first of date, then country, with value of cases, then write that data to a file. As you go append each dictionary\n",
    "\n",
    "# import glob\n",
    "# print(glob.glob(\"C:\\\\Users\\\\amer_\\OneDrive - Greenhill School\\\\Documents\\\\GitHub\\\\DataScience\\\\Numpy\\\\COVID-19TrackingProject\\\\csse_covid_19_daily_reports\\\\*.csv\"))\n",
    "\n",
    "arr = os.listdir(\"C:\\\\Users\\\\amer_\\\\OneDrive - Greenhill School\\\\Documents\\\\GitHub\\\\DataScience\\\\Numpy\\\\COVID-19TrackingProject\\\\csse_covid_19_daily_reports\")\n",
    "modDate = []\n",
    "masterDict = {}\n",
    "for date in arr:\n",
    "    size = len(date)\n",
    "    mod_date = date[:size - 4]\n",
    "    modDate.append(mod_date)\n",
    "# print(modDate)\n",
    "i = 0\n",
    "for fileLocation in arr:\n",
    "    dateInfo = \"C:\\\\Users\\\\amer_\\\\OneDrive - Greenhill School\\\\Documents\\\\GitHub\\\\DataScience\\\\Numpy\\\\COVID-19TrackingProject\\\\csse_covid_19_daily_reports\\\\\" + fileLocation\n",
    "    numpyArray = readCSVToNumpyArray(dateInfo)\n",
    "    titleArr = numpyArray[:0]\n",
    "    print(titleArr)\n",
    "    # Currently iterating through each file and reading it and its data\n",
    "    countryData = {}\n",
    "    countryData = collumbIsolate(numpyArray,countryData)\n",
    "    masterDict[modDate[i]] = countryData\n",
    "    # print(masterDict)\n",
    "    i += 1\n",
    "    break\n",
    "\n",
    "#Right now the error is that the dimensions of the CSV's are inconsistent, so what we are going to do to find the confirmed cases columb, is to index the first row of CSV's and see which index value of the array you find the string \"Confirmed\" (the first row is the titles), then that index value will be the columb we will need to index\n"
   ]
  },
  {
   "cell_type": "code",
   "execution_count": null,
   "metadata": {},
   "outputs": [],
   "source": []
  }
 ]
}