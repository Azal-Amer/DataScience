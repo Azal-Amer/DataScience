{
 "metadata": {
  "language_info": {
   "codemirror_mode": {
    "name": "ipython",
    "version": 3
   },
   "file_extension": ".py",
   "mimetype": "text/x-python",
   "name": "python",
   "nbconvert_exporter": "python",
   "pygments_lexer": "ipython3",
   "version": "3.9.1"
  },
  "orig_nbformat": 2,
  "kernelspec": {
   "name": "python3",
   "display_name": "Python 3.9.1 64-bit",
   "metadata": {
    "interpreter": {
     "hash": "03b31e0dbf5ee774e49906e1a4e99cf39d3bc46df0e15af7b9d16b1e9b24f047"
    }
   }
  }
 },
 "nbformat": 4,
 "nbformat_minor": 2,
 "cells": [
  {
   "cell_type": "code",
   "execution_count": 5,
   "metadata": {},
   "outputs": [],
   "source": [
    "import csv\n",
    "import json   \n",
    "from numpy import genfromtxt\n",
    "from numpy import loadtxt\n",
    "import numpy as np\n",
    "import os\n",
    "def readCSVToNumpyArray(dataset):\n",
    "        values = [[]]\n",
    "        with open(dataset) as f:\n",
    "            counter = 0\n",
    "            for i in csv.reader(f):\n",
    "                for j in i:\n",
    "                    try:\n",
    "                        values[counter].append(float(j))\n",
    "                    except ValueError:\n",
    "                        values[counter].append(j)\n",
    "                counter = counter + 1\n",
    "                values.append([])\n",
    "\n",
    "        data = np.array(values[:-1],dtype='object')\n",
    "\n",
    "        return data"
   ]
  },
  {
   "cell_type": "code",
   "execution_count": 6,
   "metadata": {},
   "outputs": [],
   "source": [
    "def collumbIsolate(numpyArray,countryData,location):\n",
    "    print (len(numpyArray))\n",
    "    for i in range(len(numpyArray)-1):\n",
    "        countryName = numpyArray[i+1][3]\n",
    "        countryData[countryName] = 0\n",
    "    for i in range(len(numpyArray)-1):\n",
    "\n",
    "        tempValue = numpyArray[i+1][location]\n",
    "\n",
    "        countryName = numpyArray[i+1][3]\n",
    "        if isinstance(tempValue,str):\n",
    "\n",
    "            tempValue = 0\n",
    "\n",
    "        countryData[countryName] = countryData[countryName] + tempValue\n",
    "    return countryData"
   ]
  },
  {
   "cell_type": "code",
   "execution_count": 9,
   "metadata": {
    "tags": [
     "outputPrepend"
    ]
   },
   "outputs": [
    {
     "output_type": "stream",
     "name": "stdout",
     "text": [
      "5.0, 'Brunei': 152.0, 'Bulgaria': 197716.0, 'Burkina Faso': 6344.0, 'Burma': 121886.0, 'Burundi': 804.0, 'Cabo Verde': 11714.0, 'Cambodia': 364.0, 'Cameroon': 26277.0, 'Canada': 554153.0, 'Central African Republic': 4948.0, 'Chad': 2005.0, 'Chile': 600105.0, 'China': 95632.0, 'Colombia': 1594497.0, 'Comoros': 715.0, 'Congo (Brazzaville)': 6908.0, 'Congo (Kinshasa)': 16839.0, 'Costa Rica': 162990.0, \"Cote d'Ivoire\": 22152.0, 'Croatia': 204930.0, 'Cuba': 11205.0, 'Cyprus': 19657.0, 'Czechia': 670599.0, 'Denmark': 153952.0, 'Diamond Princess': 712.0, 'Djibouti': 5813.0, 'Dominica': 88.0, 'Dominican Republic': 166764.0, 'Ecuador': 209355.0, 'Egypt': 132541.0, 'El Salvador': 44619.0, 'Equatorial Guinea': 5248.0, 'Eritrea': 1039.0, 'Estonia': 25392.0, 'Eswatini': 8484.0, 'Ethiopia': 122864.0, 'Fiji': 46.0, 'Finland': 34977.0, 'France': 2616510.0, 'Gabon': 9497.0, 'Gambia': 3793.0, 'Georgia': 221605.0, 'Germany': 1658639.0, 'Ghana': 54401.0, 'Greece': 135456.0, 'Grenada': 112.0, 'Guatemala': 135309.0, 'Guinea': 13674.0, 'Guinea-Bissau': 2447.0, 'Guyana': 6293.0, 'Haiti': 9846.0, 'Holy See': 27.0, 'Honduras': 119097.0, 'Hungary': 316060.0, 'Iceland': 5683.0, 'India': 10207871.0, 'Indonesia': 713365.0, 'Iran': 1200465.0, 'Iraq': 591597.0, 'Ireland': 86129.0, 'Israel': 401470.0, 'Italy': 2047696.0, 'Jamaica': 12723.0, 'Japan': 221412.0, 'Jordan': 287946.0, 'Kazakhstan': 197902.0, 'Kenya': 95923.0, 'Korea, South': 57680.0, 'Kosovo': 50620.0, 'Kuwait': 149653.0, 'Kyrgyzstan': 80373.0, 'Laos': 41.0, 'Latvia': 36330.0, 'Lebanon': 171226.0, 'Lesotho': 2725.0, 'Liberia': 1779.0, 'Libya': 98381.0, 'Liechtenstein': 2018.0, 'Lithuania': 131601.0, 'Luxembourg': 45209.0, 'MS Zaandam': 9.0, 'Madagascar': 17714.0, 'Malawi': 6354.0, 'Malaysia': 105096.0, 'Maldives': 13644.0, 'Mali': 6629.0, 'Malta': 12325.0, 'Marshall Islands': 4.0, 'Mauritania': 13642.0, 'Mauritius': 527.0, 'Mexico': 1383434.0, 'Moldova': 141355.0, 'Monaco': 797.0, 'Mongolia': 1137.0, 'Montenegro': 46694.0, 'Morocco': 432079.0, 'Mozambique': 18265.0, 'Namibia': 21923.0, 'Nepal': 258181.0, 'Netherlands': 774009.0, 'New Zealand': 2144.0, 'Nicaragua': 5991.0, 'Niger': 3110.0, 'Nigeria': 84414.0, 'North Macedonia': 81721.0, 'Norway': 47059.0, 'Oman': 128472.0, 'Pakistan': 473309.0, 'Panama': 231357.0, 'Papua New Guinea': 780.0, 'Paraguay': 104422.0, 'Peru': 1005546.0, 'Philippines': 469886.0, 'Poland': 1257799.0, 'Portugal': 394573.0, 'Qatar': 143062.0, 'Romania': 615809.0, 'Russia': 3019972.0, 'Rwanda': 7970.0, 'Saint Kitts and Nevis': 32.0, 'Saint Lucia': 305.0, 'Saint Vincent and the Grenadines': 109.0, 'Samoa': 2.0, 'San Marino': 2231.0, 'Sao Tome and Principe': 1014.0, 'Saudi Arabia': 362220.0, 'Senegal': 18609.0, 'Serbia': 326060.0, 'Seychelles': 205.0, 'Sierra Leone': 2560.0, 'Singapore': 58524.0, 'Slovakia': 167523.0, 'Slovenia': 114806.0, 'Solomon Islands': 17.0, 'Somalia': 4690.0, 'South Africa': 1004413.0, 'South Sudan': 3490.0, 'Spain': 1854951.0, 'Sri Lanka': 41054.0, 'Sudan': 24694.0, 'Suriname': 5978.0, 'Sweden': 396048.0, 'Switzerland': 428197.0, 'Syria': 11033.0, 'Taiwan*': 785.0, 'Tajikistan': 13205.0, 'Tanzania': 509.0, 'Thailand': 6285.0, 'Timor-Leste': 41.0, 'Togo': 3555.0, 'Trinidad and Tobago': 7112.0, 'Tunisia': 131592.0, 'Turkey': 2147578.0, 'US': 19222891.0, 'Uganda': 33811.0, 'Ukraine': 1056265.0, 'United Arab Emirates': 201836.0, 'United Kingdom': 2295232.0, 'Uruguay': 16728.0, 'Uzbekistan': 76751.0, 'Vanuatu': 1.0, 'Venezuela': 112316.0, 'Vietnam': 1441.0, 'West Bank and Gaza': 133093.0, 'Yemen': 2094.0, 'Zambia': 19834.0, 'Zimbabwe': 13077.0}, 20201228: {'Afghanistan': 51280.0, 'Albania': 56572.0, 'Algeria': 98631.0, 'Andorra': 7875.0, 'Angola': 17296.0, 'Antigua and Barbuda': 158.0, 'Argentina': 1590513.0, 'Armenia': 157948.0, 'Australia': 28349.0, 'Austria': 353484.0, 'Azerbaijan': 215483.0, 'Bahamas': 7834.0, 'Bahrain': 91935.0, 'Bangladesh': 510080.0, 'Barbados': 365.0, 'Belarus': 188588.0, 'Belgium': 639734.0, 'Belize': 10591.0, 'Benin': 3205.0, 'Bhutan': 623.0, 'Bolivia': 155594.0, 'Bosnia and Herzegovina': 109911.0, 'Botswana': 14025.0, 'Brazil': 7504833.0, 'Brunei': 152.0, 'Bulgaria': 198053.0, 'Burkina Faso': 6344.0, 'Burma': 122534.0, 'Burundi': 804.0, 'Cabo Verde': 11723.0, 'Cambodia': 364.0, 'Cameroon': 26277.0, 'Canada': 560618.0, 'Central African Republic': 4948.0, 'Chad': 2015.0, 'Chile': 602028.0, 'China': 95720.0, 'Colombia': 1603807.0, 'Comoros': 715.0, 'Congo (Brazzaville)': 6908.0, 'Congo (Kinshasa)': 16917.0, 'Costa Rica': 165762.0, \"Cote d'Ivoire\": 22176.0, 'Croatia': 205246.0, 'Cuba': 11434.0, 'Cyprus': 20408.0, 'Czechia': 674340.0, 'Denmark': 156434.0, 'Diamond Princess': 712.0, 'Djibouti': 5813.0, 'Dominica': 88.0, 'Dominican Republic': 167405.0, 'Ecuador': 209758.0, 'Egypt': 133900.0, 'El Salvador': 45415.0, 'Equatorial Guinea': 5248.0, 'Eritrea': 1039.0, 'Estonia': 25808.0, 'Eswatini': 8687.0, 'Ethiopia': 123145.0, 'Fiji': 46.0, 'Finland': 35137.0, 'France': 2619616.0, 'Gabon': 9510.0, 'Gambia': 3793.0, 'Georgia': 222143.0, 'Germany': 1672643.0, 'Ghana': 54503.0, 'Greece': 135931.0, 'Grenada': 124.0, 'Guatemala': 135441.0, 'Guinea': 13688.0, 'Guinea-Bissau': 2447.0, 'Guyana': 6298.0, 'Haiti': 9958.0, 'Holy See': 27.0, 'Honduras': 119713.0, 'Hungary': 316669.0, 'Iceland': 5726.0, 'India': 10224303.0, 'Indonesia': 719219.0, 'Iran': 1206373.0, 'Iraq': 592528.0, 'Ireland': 86894.0, 'Israel': 407285.0, 'Italy': 2056277.0, 'Jamaica': 12732.0, 'Japan': 223786.0, 'Jordan': 289748.0, 'Kazakhstan': 198659.0, 'Kenya': 95992.0, 'Korea, South': 58725.0, 'Kosovo': 50801.0, 'Kuwait': 149857.0, 'Kyrgyzstan': 80535.0, 'Laos': 41.0, 'Latvia': 36838.0, 'Lebanon': 172820.0, 'Lesotho': 2956.0, 'Liberia': 1779.0, 'Libya': 98913.0, 'Liechtenstein': 2038.0, 'Lithuania': 133395.0, 'Luxembourg': 45849.0, 'MS Zaandam': 9.0, 'Madagascar': 17714.0, 'Malawi': 6377.0, 'Malaysia': 106690.0, 'Maldives': 13660.0, 'Mali': 6703.0, 'Malta': 12426.0, 'Marshall Islands': 4.0, 'Mauritania': 13778.0, 'Mauritius': 527.0, 'Mexico': 1389430.0, 'Moldova': 141924.0, 'Monaco': 801.0, 'Mongolia': 1175.0, 'Montenegro': 46969.0, 'Morocco': 433029.0, 'Mozambique': 18310.0, 'Namibia': 22287.0, 'Nepal': 258840.0, 'Netherlands': 781467.0, 'New Zealand': 2151.0, 'Nicaragua': 5991.0, 'Niger': 3159.0, 'Nigeria': 84811.0, 'North Macedonia': 81804.0, 'Norway': 47585.0, 'Oman': 128563.0, 'Pakistan': 475085.0, 'Panama': 233705.0, 'Papua New Guinea': 780.0, 'Paraguay': 105374.0, 'Peru': 1007657.0, 'Philippines': 470650.0, 'Poland': 1261010.0, 'Portugal': 396666.0, 'Qatar': 143222.0, 'Romania': 618429.0, 'Russia': 3047335.0, 'Rwanda': 8021.0, 'Saint Kitts and Nevis': 32.0, 'Saint Lucia': 331.0, 'Saint Vincent and the Grenadines': 109.0, 'Samoa': 2.0, 'San Marino': 2275.0, 'Sao Tome and Principe': 1014.0, 'Saudi Arabia': 362339.0, 'Senegal': 18728.0, 'Serbia': 328619.0, 'Seychelles': 217.0, 'Sierra Leone': 2560.0, 'Singapore': 58529.0, 'Slovakia': 168092.0, 'Slovenia': 115327.0, 'Solomon Islands': 17.0, 'Somalia': 4690.0, 'South Africa': 1011871.0, 'South Sudan': 3491.0, 'Spain': 1879413.0, 'Sri Lanka': 41603.0, 'Sudan': 24888.0, 'Suriname': 6013.0, 'Sweden': 396048.0, 'Switzerland': 438284.0, 'Syria': 11138.0, 'Taiwan*': 793.0, 'Tajikistan': 13237.0, 'Tanzania': 509.0, 'Thailand': 6440.0, 'Timor-Leste': 44.0, 'Togo': 3576.0, 'Trinidad and Tobago': 7115.0, 'Tunisia': 133204.0, 'Turkey': 2162775.0, 'US': 19396787.0, 'Uganda': 33973.0, 'Ukraine': 1061074.0, 'United Arab Emirates': 202863.0, 'United Kingdom': 2336692.0, 'Uruguay': 17306.0, 'Uzbekistan': 76832.0, 'Vanuatu': 1.0, 'Venezuela': 112636.0, 'Vietnam': 1451.0, 'West Bank and Gaza': 134310.0, 'Yemen': 2096.0, 'Zambia': 19943.0, 'Zimbabwe': 13148.0}, 20201229: {'Afghanistan': 51350.0, 'Albania': 57146.0, 'Algeria': 98988.0, 'Andorra': 7919.0, 'Angola': 17371.0, 'Antigua and Barbuda': 158.0, 'Argentina': 1602163.0, 'Armenia': 158296.0, 'Australia': 28381.0, 'Austria': 355352.0, 'Azerbaijan': 216584.0, 'Bahamas': 7846.0, 'Bahrain': 92169.0, 'Bangladesh': 511261.0, 'Barbados': 371.0, 'Belarus': 190404.0, 'Belgium': 641411.0, 'Belize': 10668.0, 'Benin': 3205.0, 'Bhutan': 636.0, 'Bolivia': 156887.0, 'Bosnia and Herzegovina': 110454.0, 'Botswana': 14025.0, 'Brazil': 7563551.0, 'Brunei': 152.0, 'Bulgaria': 199491.0, 'Burkina Faso': 6537.0, 'Burma': 123153.0, 'Burundi': 809.0, 'Cabo Verde': 11752.0, 'Cambodia': 364.0, 'Cameroon': 26277.0, 'Canada': 568807.0, 'Central African Republic': 4961.0, 'Chad': 2048.0, 'Chile': 603986.0, 'China': 95797.0, 'Colombia': 1614822.0, 'Comoros': 765.0, 'Congo (Brazzaville)': 6908.0, 'Congo (Kinshasa)': 17182.0, 'Costa Rica': 166799.0, \"Cote d'Ivoire\": 22250.0, 'Croatia': 206596.0, 'Cuba': 11601.0, 'Cyprus': 21315.0, 'Czechia': 685202.0, 'Denmark': 159074.0, 'Diamond Princess': 712.0, 'Djibouti': 5813.0, 'Dominica': 88.0, 'Dominican Republic': 168265.0, 'Ecuador': 210326.0, 'Egypt': 135233.0, 'El Salvador': 45415.0, 'Equatorial Guinea': 5248.0, 'Eritrea': 1220.0, 'Estonia': 26283.0, 'Eswatini': 8934.0, 'Ethiopia': 123388.0, 'Fiji': 49.0, 'Finland': 35420.0, 'France': 2631110.0, 'Gabon': 9510.0, 'Gambia': 3797.0, 'Georgia': 224155.0, 'Germany': 1692109.0, 'Ghana': 54681.0, 'Greece': 136976.0, 'Grenada': 127.0, 'Guatemala': 136287.0, 'Guinea': 13688.0, 'Guinea-Bissau': 2452.0, 'Guyana': 6301.0, 'Haiti': 9958.0, 'Holy See': 27.0, 'Honduras': 120912.0, 'Hungary': 317571.0, 'Iceland': 5736.0, 'India': 10244852.0, 'Indonesia': 727122.0, 'Iran': 1212481.0, 'Iraq': 593541.0, 'Ireland': 88439.0, 'Israel': 412398.0, 'Italy': 2067487.0, 'Jamaica': 12752.0, 'Japan': 227415.0, 'Jordan': 291393.0, 'Kazakhstan': 199555.0, 'Kenya': 96139.0, 'Korea, South': 59773.0, 'Kosovo': 50910.0, 'Kuwait': 150093.0, 'Kyrgyzstan': 80654.0, 'Laos': 41.0, 'Latvia': 37676.0, 'Lebanon': 175118.0, 'Lesotho': 3005.0, 'Liberia': 1779.0, 'Libya': 99350.0, 'Liechtenstein': 2069.0, 'Lithuania': 135503.0, 'Luxembourg': 46088.0, 'MS Zaandam': 9.0, 'Madagascar': 17714.0, 'Malawi': 6388.0, 'Malaysia': 108615.0, 'Maldives': 13691.0, 'Mali': 6796.0, 'Malta': 12541.0, 'Marshall Islands': 4.0, 'Mauritania': 13989.0, 'Mauritius': 527.0, 'Mexico': 1401529.0, 'Moldova': 142851.0, 'Monaco': 827.0, 'Mongolia': 1195.0, 'Montenegro': 47404.0, 'Morocco': 435189.0, 'Mozambique': 18372.0, 'Namibia': 22851.0, 'Nepal': 259548.0, 'Netherlands': 789059.0, 'New Zealand': 2151.0, 'Nicaragua': 6046.0, 'Niger': 3208.0, 'Nigeria': 85560.0, 'North Macedonia': 82301.0, 'Norway': 48278.0, 'Oman': 128633.0, 'Pakistan': 477240.0, 'Panama': 238279.0, 'Papua New Guinea': 780.0, 'Paraguay': 106136.0, 'Peru': 1008908.0, 'Philippines': 471526.0, 'Poland': 1268634.0, 'Portugal': 400002.0, 'Qatar': 143428.0, 'Romania': 623066.0, 'Russia': 3073923.0, 'Rwanda': 8128.0, 'Saint Kitts and Nevis': 32.0, 'Saint Lucia': 331.0, 'Saint Vincent and the Grenadines': 113.0, 'Samoa': 2.0, 'San Marino': 2333.0, 'Sao Tome and Principe': 1014.0, 'Saudi Arabia': 362488.0, 'Senegal': 18806.0, 'Serbia': 331755.0, 'Seychelles': 217.0, 'Sierra Leone': 2569.0, 'Singapore': 58542.0, 'Slovakia': 170187.0, 'Slovenia': 117305.0, 'Solomon Islands': 17.0, 'Somalia': 4690.0, 'South Africa': 1021451.0, 'South Sudan': 3511.0, 'Spain': 1893502.0, 'Sri Lanka': 42056.0, 'Sudan': 25060.0, 'Suriname': 6098.0, 'Sweden': 428533.0, 'Switzerland': 442481.0, 'Syria': 11243.0, 'Taiwan*': 795.0, 'Tajikistan': 13265.0, 'Tanzania': 509.0, 'Thailand': 6690.0, 'Timor-Leste': 44.0, 'Togo': 3604.0, 'Trinidad and Tobago': 7127.0, 'Tunisia': 134802.0, 'Turkey': 2178580.0, 'US': 19595354.0, 'Uganda': 34281.0, 'Ukraine': 1068476.0, 'United Arab Emirates': 204369.0, 'United Kingdom': 2389967.0, 'Uruguay': 17962.0, 'Uzbekistan': 76907.0, 'Vanuatu': 1.0, 'Venezuela': 112861.0, 'Vietnam': 1454.0, 'West Bank and Gaza': 135459.0, 'Yemen': 2096.0, 'Zambia': 20177.0, 'Zimbabwe': 13325.0}, 20201230: {'Afghanistan': 51405.0, 'Albania': 57727.0, 'Algeria': 99311.0, 'Andorra': 7983.0, 'Angola': 17433.0, 'Antigua and Barbuda': 158.0, 'Argentina': 1613928.0, 'Armenia': 158878.0, 'Australia': 28405.0, 'Austria': 357902.0, 'Azerbaijan': 217636.0, 'Bahamas': 7857.0, 'Bahrain': 92425.0, 'Bangladesh': 512496.0, 'Barbados': 372.0, 'Belarus': 192361.0, 'Belgium': 644242.0, 'Belize': 10724.0, 'Benin': 3251.0, 'Bhutan': 655.0, 'Bolivia': 158372.0, 'Bosnia and Herzegovina': 110985.0, 'Botswana': 14700.0, 'Brazil': 7619200.0, 'Brunei': 157.0, 'Bulgaria': 201220.0, 'Burkina Faso': 6631.0, 'Burma': 123740.0, 'Burundi': 809.0, 'Cabo Verde': 11793.0, 'Cambodia': 366.0, 'Cameroon': 26277.0, 'Canada': 577266.0, 'Central African Republic': 4963.0, 'Chad': 2077.0, 'Chile': 606950.0, 'China': 95876.0, 'Colombia': 1626461.0, 'Comoros': 765.0, 'Congo (Brazzaville)': 6908.0, 'Congo (Kinshasa)': 17376.0, 'Costa Rica': 168114.0, \"Cote d'Ivoire\": 22366.0, 'Croatia': 208446.0, 'Cuba': 11687.0, 'Cyprus': 22019.0, 'Czechia': 701622.0, 'Denmark': 161862.0, 'Diamond Princess': 712.0, 'Djibouti': 5824.0, 'Dominica': 88.0, 'Dominican Republic': 169579.0, 'Ecuador': 211512.0, 'Egypt': 136644.0, 'El Salvador': 45960.0, 'Equatorial Guinea': 5264.0, 'Eritrea': 1252.0, 'Estonia': 27256.0, 'Eswatini': 9146.0, 'Ethiopia': 123856.0, 'Fiji': 49.0, 'Finland': 35858.0, 'France': 2657624.0, 'Gabon': 9571.0, 'Gambia': 3797.0, 'Georgia': 225893.0, 'Germany': 1741153.0, 'Ghana': 54771.0, 'Greece': 137918.0, 'Grenada': 127.0, 'Guatemala': 137166.0, 'Guinea': 13707.0, 'Guinea-Bissau': 2452.0, 'Guyana': 6319.0, 'Haiti': 9999.0, 'Holy See': 27.0, 'Honduras': 120912.0, 'Hungary': 319543.0, 'Iceland': 5754.0, 'India': 10266674.0, 'Indonesia': 735124.0, 'Iran': 1218753.0, 'Iraq': 594442.0, 'Ireland': 90157.0, 'Israel': 416584.0, 'Italy': 2083689.0, 'Jamaica': 12793.0, 'Japan': 231271.0, 'Jordan': 293067.0, 'Kazakhstan': 200443.0, 'Kenya': 96251.0, 'Korea, South': 60740.0, 'Kosovo': 50910.0, 'Kuwait': 150298.0, 'Kyrgyzstan': 80843.0, 'Laos': 41.0, 'Latvia': 39043.0, 'Lebanon': 177996.0, 'Lesotho': 3094.0, 'Liberia': 1779.0, 'Libya': 99935.0, 'Liechtenstein': 2104.0, 'Lithuania': 139487.0, 'Luxembourg': 46415.0, 'MS Zaandam': 9.0, 'Madagascar': 17714.0, 'Malawi': 6471.0, 'Malaysia': 110485.0, 'Maldives': 13738.0, 'Mali': 7029.0, 'Malta': 12665.0, 'Marshall Islands': 4.0, 'Mauritania': 14191.0, 'Mauritius': 527.0, 'Mexico': 1413935.0, 'Moldova': 143841.0, 'Monaco': 853.0, 'Mongolia': 1215.0, 'Montenegro': 47782.0, 'Morocco': 437332.0, 'Mozambique': 18485.0, 'Namibia': 23333.0, 'Nepal': 260059.0, 'Netherlands': 798592.0, 'New Zealand': 2162.0, 'Nicaragua': 6046.0, 'Niger': 3208.0, 'Nigeria': 86576.0, 'North Macedonia': 82794.0, 'Norway': 49010.0, 'Oman': 128719.0, 'Pakistan': 479715.0, 'Panama': 242744.0, 'Papua New Guinea': 780.0, 'Paraguay': 106958.0, 'Peru': 1010496.0, 'Philippines': 472532.0, 'Poland': 1281414.0, 'Portugal': 406051.0, 'Qatar': 143621.0, 'Romania': 627941.0, 'Russia': 3100018.0, 'Rwanda': 8250.0, 'Saint Kitts and Nevis': 32.0, 'Saint Lucia': 340.0, 'Saint Vincent and the Grenadines': 115.0, 'Samoa': 2.0, 'San Marino': 2384.0, 'Sao Tome and Principe': 1014.0, 'Saudi Arabia': 362601.0, 'Senegal': 18945.0, 'Serbia': 334991.0, 'Seychelles': 256.0, 'Sierra Leone': 2583.0, 'Singapore': 58569.0, 'Slovakia': 173228.0, 'Slovenia': 119740.0, 'Solomon Islands': 17.0, 'Somalia': 4714.0, 'South Africa': 1039161.0, 'South Sudan': 3540.0, 'Spain': 1910218.0, 'Sri Lanka': 42702.0, 'Sudan': 25238.0, 'Suriname': 6181.0, 'Sweden': 437379.0, 'Switzerland': 447905.0, 'Syria': 11344.0, 'Taiwan*': 797.0, 'Tajikistan': 13296.0, 'Tanzania': 509.0, 'Thailand': 6884.0, 'Timor-Leste': 44.0, 'Togo': 3611.0, 'Trinidad and Tobago': 7132.0, 'Tunisia': 137216.0, 'Turkey': 2194272.0, 'US': 19827770.0, 'Uganda': 34677.0, 'Ukraine': 1076880.0, 'United Arab Emirates': 206092.0, 'United Kingdom': 2440206.0, 'Uruguay': 18480.0, 'Uzbekistan': 76985.0, 'Vanuatu': 1.0, 'Venezuela': 113121.0, 'Vietnam': 1456.0, 'West Bank and Gaza': 136736.0, 'Yemen': 2097.0, 'Zambia': 20462.0, 'Zimbabwe': 13625.0}, 20201231: {'Afghanistan': 51526.0, 'Albania': 58316.0, 'Algeria': 99610.0, 'Andorra': 8049.0, 'Angola': 17553.0, 'Antigua and Barbuda': 159.0, 'Argentina': 1625514.0, 'Armenia': 159409.0, 'Australia': 28425.0, 'Austria': 360815.0, 'Azerbaijan': 218700.0, 'Bahamas': 7871.0, 'Bahrain': 92675.0, 'Bangladesh': 513510.0, 'Barbados': 383.0, 'Belarus': 194284.0, 'Belgium': 646496.0, 'Belize': 10776.0, 'Benin': 3251.0, 'Bhutan': 670.0, 'Bolivia': 160124.0, 'Bosnia and Herzegovina': 110985.0, 'Botswana': 14805.0, 'Brazil': 7675973.0, 'Brunei': 157.0, 'Bulgaria': 202266.0, 'Burkina Faso': 6707.0, 'Burma': 124630.0, 'Burundi': 818.0, 'Cabo Verde': 11840.0, 'Cambodia': 378.0, 'Cameroon': 26277.0, 'Canada': 584409.0, 'Central African Republic': 4963.0, 'Chad': 2113.0, 'Chile': 608973.0, 'China': 95963.0, 'Colombia': 1642775.0, 'Comoros': 823.0, 'Congo (Brazzaville)': 7107.0, 'Congo (Kinshasa)': 17658.0, 'Costa Rica': 169321.0, \"Cote d'Ivoire\": 22490.0, 'Croatia': 210837.0, 'Cuba': 11863.0, 'Cyprus': 22019.0, 'Czechia': 718661.0, 'Denmark': 164116.0, 'Diamond Princess': 712.0, 'Djibouti': 5831.0, 'Dominica': 88.0, 'Dominican Republic': 170785.0, 'Ecuador': 212512.0, 'Egypt': 138062.0, 'El Salvador': 45960.0, 'Equatorial Guinea': 5277.0, 'Eritrea': 1320.0, 'Estonia': 27990.0, 'Eswatini': 9358.0, 'Ethiopia': 124264.0, 'Fiji': 49.0, 'Finland': 36107.0, 'France': 2677666.0, 'Gabon': 9571.0, 'Gambia': 3797.0, 'Georgia': 227420.0, 'Germany': 1760520.0, 'Ghana': 54771.0, 'Greece': 138850.0, 'Grenada': 127.0, 'Guatemala': 138012.0, 'Guinea': 13722.0, 'Guinea-Bissau': 2452.0, 'Guyana': 6332.0, 'Haiti': 9999.0, 'Holy See': 27.0, 'Honduras': 121827.0, 'Hungary': 322514.0, 'Iceland': 5754.0, 'India': 10266674.0, 'Indonesia': 743198.0, 'Iran': 1225142.0, 'Iraq': 595291.0, 'Ireland': 91779.0, 'Israel': 423262.0, 'Italy': 2107166.0, 'Jamaica': 12827.0, 'Japan': 235811.0, 'Jordan': 294494.0, 'Kazakhstan': 201196.0, 'Kenya': 96458.0, 'Korea, South': 61769.0, 'Kosovo': 51144.0, 'Kuwait': 150584.0, 'Kyrgyzstan': 81034.0, 'Laos': 41.0, 'Latvia': 40904.0, 'Lebanon': 181503.0, 'Lesotho': 3094.0, 'Liberia': 1779.0, 'Libya': 100277.0, 'Liechtenstein': 2136.0, 'Lithuania': 141955.0, 'Luxembourg': 46415.0, 'MS Zaandam': 9.0, 'Madagascar': 17714.0, 'Malawi': 6583.0, 'Malaysia': 113010.0, 'Maldives': 13757.0, 'Mali': 7090.0, 'Malta': 12774.0, 'Marshall Islands': 4.0, 'Mauritania': 14364.0, 'Mauritius': 527.0, 'Mexico': 1426094.0, 'Moldova': 144818.0, 'Monaco': 875.0, 'Mongolia': 1220.0, 'Montenegro': 48247.0, 'Morocco': 439193.0, 'Mozambique': 18642.0, 'Namibia': 23941.0, 'Nepal': 260593.0, 'Netherlands': 808382.0, 'New Zealand': 2162.0, 'Nicaragua': 6046.0, 'Niger': 3323.0, 'Nigeria': 87607.0, 'North Macedonia': 83329.0, 'Norway': 49567.0, 'Oman': 128867.0, 'Pakistan': 482178.0, 'Panama': 246790.0, 'Papua New Guinea': 780.0, 'Paraguay': 107932.0, 'Peru': 1015137.0, 'Philippines': 474064.0, 'Poland': 1294878.0, 'Portugal': 413678.0, 'Qatar': 143834.0, 'Romania': 632263.0, 'Russia': 3127347.0, 'Rwanda': 8383.0, 'Saint Kitts and Nevis': 32.0, 'Saint Lucia': 353.0, 'Saint Vincent and the Grenadines': 121.0, 'Samoa': 2.0, 'San Marino': 2428.0, 'Sao Tome and Principe': 1014.0, 'Saudi Arabia': 362741.0, 'Senegal': 19140.0, 'Serbia': 337923.0, 'Seychelles': 256.0, 'Sierra Leone': 2611.0, 'Singapore': 58599.0, 'Slovakia': 179543.0, 'Slovenia': 122152.0, 'Solomon Islands': 17.0, 'Somalia': 4714.0, 'South Africa': 1057161.0, 'South Sudan': 3558.0, 'Spain': 1928265.0, 'Sri Lanka': 43299.0, 'Sudan': 25500.0, 'Suriname': 6210.0, 'Sweden': 437379.0, 'Switzerland': 452296.0, 'Syria': 11434.0, 'Taiwan*': 799.0, 'Tajikistan': 13296.0, 'Tanzania': 509.0, 'Thailand': 7163.0, 'Timor-Leste': 44.0, 'Togo': 3633.0, 'Trinidad and Tobago': 7150.0, 'Tunisia': 139140.0, 'Turkey': 2208652.0, 'US': 20061903.0, 'Uganda': 35216.0, 'Ukraine': 1086997.0, 'United Arab Emirates': 207822.0, 'United Kingdom': 2496235.0, 'Uruguay': 19119.0, 'Uzbekistan': 77060.0, 'Vanuatu': 1.0, 'Venezuela': 113558.0, 'Vietnam': 1465.0, 'West Bank and Gaza': 138004.0, 'Yemen': 2099.0, 'Zambia': 20725.0, 'Zimbabwe': 13867.0}}\n"
     ]
    }
   ],
   "source": [
    "#Create a dictionary with keys of (filename-.csv), which contains a dictionary of keys wiht country, with values of confirmed cases\n",
    "#Open a folder\n",
    "#Read each file in the folder, with ther names\n",
    "#Delete everything but the confirmed case count and the location columbs\n",
    "#Convert to numpy object\n",
    "# Add up the data from difff states (see mian project for function by Ryan)\n",
    "# Write data to a dictionary with key first of date, then country, with value of cases, then write that data to a file. As you go append each dictionary\n",
    "\n",
    "# import glob\n",
    "# print(glob.glob(\"C:\\\\Users\\\\amer_\\OneDrive - Greenhill School\\\\Documents\\\\GitHub\\\\DataScience\\\\Numpy\\\\COVID-19TrackingProject\\\\csse_covid_19_daily_reports\\\\*.csv\"))\n",
    "\n",
    "arr = os.listdir(\"C:\\\\Users\\\\amer_\\\\OneDrive - Greenhill School\\\\Documents\\\\GitHub\\\\DataScience\\\\Numpy\\\\COVID-19TrackingProject\\\\csse_covid_19_daily_reports\")\n",
    "modDate = []\n",
    "masterDict = {}\n",
    "for date in arr:\n",
    "    size = len(date)\n",
    "    mod_date = date[:size - 4]\n",
    "    #date in US standards w/o the .csv\n",
    "    mod_date = int(mod_date[6::]+mod_date[0:2]+mod_date[3:5])\n",
    "    modDate.append(int(mod_date))\n",
    "i = 0\n",
    "for fileLocation in arr:\n",
    "    dateInfo = \"C:\\\\Users\\\\amer_\\\\OneDrive - Greenhill School\\\\Documents\\\\GitHub\\\\DataScience\\\\Numpy\\\\COVID-19TrackingProject\\\\csse_covid_19_daily_reports\\\\\" + fileLocation\n",
    "    numpyArray = readCSVToNumpyArray(dateInfo)\n",
    "    titleArr = numpyArray[0]\n",
    "    locationConfirmed = (np.where(titleArr == \"Confirmed\"))[0]\n",
    "    # Currently iterating through each file and reading it and its data\n",
    "    countryData = {}\n",
    "    countryData = collumbIsolate(numpyArray,countryData,locationConfirmed[0])\n",
    "    masterDict[modDate[i]] = countryData\n",
    "    i += 1\n",
    "    \n",
    "    \n",
    "with open(\"final.json\", \"w\") as outfile:\n",
    "    json.dump(masterDict, outfile) \n",
    "print(masterDict)   \n",
    "\n",
    "#Right now the error is that the dimensions of the CSV's are inconsistent, so what we are going to do to find the confirmed cases columb, is to index the first row of CSV's and see which index value of the array you find the string \"Confirmed\" (the first row is the titles), then that index value will be the columb we will need to index\n"
   ]
  },
  {
   "cell_type": "code",
   "execution_count": null,
   "metadata": {},
   "outputs": [],
   "source": []
  }
 ]
}