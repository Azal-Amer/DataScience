{
 "metadata": {
  "language_info": {
   "codemirror_mode": {
    "name": "ipython",
    "version": 3
   },
   "file_extension": ".py",
   "mimetype": "text/x-python",
   "name": "python",
   "nbconvert_exporter": "python",
   "pygments_lexer": "ipython3",
   "version": "3.9.1-final"
  },
  "orig_nbformat": 2,
  "kernelspec": {
   "name": "python3",
   "display_name": "Python 3.9.1 64-bit",
   "metadata": {
    "interpreter": {
     "hash": "03b31e0dbf5ee774e49906e1a4e99cf39d3bc46df0e15af7b9d16b1e9b24f047"
    }
   }
  }
 },
 "nbformat": 4,
 "nbformat_minor": 2,
 "cells": [
  {
   "cell_type": "code",
   "execution_count": 2,
   "metadata": {},
   "outputs": [],
   "source": [
    "def readCSVToNumpyArray(dataset):\n",
    "        values = [[]]\n",
    "        with open(dataset) as f:\n",
    "            counter = 0\n",
    "            for i in csv.reader(f):\n",
    "                for j in i:\n",
    "                    try:\n",
    "                        values[counter].append(float(j))\n",
    "                    except ValueError:\n",
    "                        values[counter].append(j)\n",
    "                counter = counter + 1\n",
    "                values.append([])\n",
    "\n",
    "        data = np.array(values[:-1],dtype='object')\n",
    "\n",
    "        return data"
   ]
  },
  {
   "cell_type": "code",
   "execution_count": 3,
   "metadata": {
    "tags": []
   },
   "outputs": [
    {
     "output_type": "stream",
     "name": "stdout",
     "text": [
      "[['FIPS' 'Admin2' 'Province_State' ... 'Combined_Key' 'Incident_Rate'\n  'Case_Fatality_Ratio']\n ['' '' '' ... 'Afghanistan' 0.0 4.2522221790940495]\n ['' '' '' ... 'Albania' 2026.4090624782818 2.025173194320598]\n ...\n ['' '' '' ... 'Yemen' 7.0441971908506025 29.03379343169919]\n ['' '' '' ... 'Zambia' 114.21371983266279 1.857408201171596]\n ['' '' '' ... 'Zimbabwe' 94.75926242522756 2.6199943197955124]]\n"
     ]
    }
   ],
   "source": [
    "import csv\n",
    "from numpy import genfromtxt\n",
    "from numpy import loadtxt\n",
    "import numpy as np\n",
    "\n",
    "# The below function was copied from: https://stackoverflow.com/questions/36066726/python-numpy-read-csv-into-numpy-with-proper-value-type\n",
    "#How it works: \n",
    "\n",
    "\n",
    "numpyArray = readCSVToNumpyArray('01-01-2021 cool.csv')\n",
    "print(numpyArray)\n"
   ]
  },
  {
   "cell_type": "code",
   "execution_count": 11,
   "metadata": {
    "tags": []
   },
   "outputs": [
    {
     "output_type": "stream",
     "name": "stdout",
     "text": [
      "3978\n{'Afghanistan': array([51526.0, 2191.0, 41727.0, 0.0], dtype=object), 'Albania': array([58316.0, 1181.0, 33634.0, 23501.0], dtype=object), 'Algeria': array([99897.0, 2762.0, 67395.0, 29740.0], dtype=object), 'Andorra': array([8117.0, 84.0, 7463.0, 570.0], dtype=object), 'Angola': array([17568.0, 405.0, 11146.0, 6017.0], dtype=object), 'Antigua and Barbuda': array([159.0, 5.0, 148.0, 6.0], dtype=object), 'Argentina': array([1629594.0, 43319.0, 1426676.0, 159599.0], dtype=object), 'Armenia': array([159738.0, 2828.0, 143355.0, 13555.0], dtype=object), 'Australia': array([28460.0, 909.0, 22573.0, 1781.0], dtype=object), 'Austria': array([362911.0, 6261.0, 334901.0, 21749.0], dtype=object), 'Azerbaijan': array([219041.0, 2670.0, 188280.0, 28091.0], dtype=object), 'Bahamas': array([7887.0, 171.0, 6239.0, 1477.0], dtype=object), 'Bahrain': array([92913.0, 352.0, 90369.0, 2192.0], dtype=object), 'Bangladesh': array([514500.0, 7576.0, 458656.0, 48268.0], dtype=object), 'Barbados': array([395.0, 7.0, 319.0, 69.0], dtype=object), 'Belarus': array([196223.0, 1433.0, 178102.0, 16688.0], dtype=object), 'Belgium': array([648289.0, 19581.0, 0.0, 628708.0], dtype=object), 'Belize': array([10776.0, 248.0, 9795.0, 733.0], dtype=object), 'Benin': array([3251.0, 44.0, 3061.0, 146.0], dtype=object), 'Bhutan': array([689.0, 0.0, 449.0, 240.0], dtype=object), 'Bolivia': array([160985.0, 9175.0, 132510.0, 19300.0], dtype=object), 'Bosnia and Herzegovina': array([112143.0, 4086.0, 77682.0, 30375.0], dtype=object), 'Botswana': array([14805.0, 42.0, 12136.0, 2627.0], dtype=object), 'Brazil': array([7700578.0, 195411.0, 6855372.0, 649795.0], dtype=object), 'Brunei': array([157.0, 3.0, 149.0, 5.0], dtype=object), 'Bulgaria': array([202540.0, 7604.0, 120343.0, 74593.0], dtype=object), 'Burkina Faso': array([6828.0, 85.0, 5152.0, 1591.0], dtype=object), 'Burma': array([125042.0, 2697.0, 107777.0, 14568.0], dtype=object), 'Burundi': array([822.0, 2.0, 687.0, 133.0], dtype=object), 'Cabo Verde': array([11872.0, 113.0, 11569.0, 190.0], dtype=object), 'Cambodia': array([379.0, 0.0, 362.0, 17.0], dtype=object), 'Cameroon': array([26848.0, 448.0, 24892.0, 1508.0], dtype=object), 'Canada': array([585400.0, 15806.0, 494437.0, 75320.0], dtype=object), 'Central African Republic': array([4963.0, 63.0, 1924.0, 2976.0], dtype=object), 'Chad': array([2141.0, 104.0, 1704.0, 333.0], dtype=object), 'Chile': array([612564.0, 16660.0, 579203.0, 16701.0], dtype=object), 'China': array([96023.0, 4782.0, 90031.0, 1210.0], dtype=object), 'Colombia': array([1654880.0, 43495.0, 1520548.0, 90837.0], dtype=object), 'Comoros': array([823.0, 10.0, 705.0, 108.0], dtype=object), 'Congo (Brazzaville)': array([7107.0, 108.0, 5846.0, 1153.0], dtype=object), 'Congo (Kinshasa)': array([17849.0, 591.0, 14701.0, 2557.0], dtype=object), 'Costa Rica': array([169321.0, 2185.0, 131923.0, 35213.0], dtype=object), \"Cote d'Ivoire\": array([22563.0, 138.0, 21981.0, 444.0], dtype=object), 'Croatia': array([212007.0, 3961.0, 199820.0, 8226.0], dtype=object), 'Cuba': array([12056.0, 146.0, 10345.0, 1565.0], dtype=object), 'Cyprus': array([22818.0, 127.0, 2057.0, 20634.0], dtype=object), 'Czechia': array([732022.0, 11711.0, 600073.0, 120238.0], dtype=object), 'Denmark': array([166567.0, 1322.0, 131390.0, 33855.0], dtype=object), 'Diamond Princess': array([712.0, 13.0, 699.0, 0.0], dtype=object), 'Djibouti': array([5840.0, 61.0, 5735.0, 44.0], dtype=object), 'Dominica': array([88.0, 0.0, 83.0, 5.0], dtype=object), 'Dominican Republic': array([172218.0, 2416.0, 131543.0, 38259.0], dtype=object), 'Ecuador': array([213378.0, 14051.0, 184507.0, 14820.0], dtype=object), 'Egypt': array([139471.0, 7687.0, 112826.0, 18958.0], dtype=object), 'El Salvador': array([45960.0, 1327.0, 45960.0, 3505.0], dtype=object), 'Equatorial Guinea': array([5277.0, 86.0, 5136.0, 55.0], dtype=object), 'Eritrea': array([1320.0, 3.0, 643.0, 641.0], dtype=object), 'Estonia': array([28406.0, 234.0, 19027.0, 9145.0], dtype=object), 'Eswatini': array([9482.0, 216.0, 7073.0, 2193.0], dtype=object), 'Ethiopia': array([124652.0, 1937.0, 112251.0, 10464.0], dtype=object), 'Fiji': array([49.0, 2.0, 44.0, 3.0], dtype=object), 'Finland': array([36403.0, 561.0, 29000.0, 6842.0], dtype=object), 'France': array([2697014.0, 64892.0, 200822.0, 2431300.0], dtype=object), 'Gabon': array([9571.0, 64.0, 9388.0, 119.0], dtype=object), 'Gambia': array([3800.0, 124.0, 3669.0, 7.0], dtype=object), 'Georgia': array([228410.0, 2528.0, 214992.0, 10890.0], dtype=object), 'Germany': array([1762637.0, 34145.0, 1388744.0, 339748.0], dtype=object), 'Ghana': array([54930.0, 335.0, 53758.0, 837.0], dtype=object), 'Greece': array([139447.0, 4881.0, 93764.0, 40802.0], dtype=object), 'Grenada': array([127.0, 0.0, 107.0, 20.0], dtype=object), 'Guatemala': array([138236.0, 4820.0, 126606.0, 6810.0], dtype=object), 'Guinea': array([13738.0, 81.0, 13153.0, 504.0], dtype=object), 'Guinea-Bissau': array([2452.0, 45.0, 2397.0, 10.0], dtype=object), 'Guyana': array([6348.0, 164.0, 5868.0, 316.0], dtype=object), 'Haiti': array([10015.0, 236.0, 8624.0, 1155.0], dtype=object), 'Holy See': array([27.0, 0.0, 15.0, 12.0], dtype=object), 'Honduras': array([122974.0, 3160.0, 56936.0, 62878.0], dtype=object), 'Hungary': array([325278.0, 9667.0, 157063.0, 158548.0], dtype=object), 'Iceland': array([5754.0, 29.0, 5578.0, 147.0], dtype=object), 'India': array([10286709.0, 148994.0, 9883461.0, 254254.0], dtype=object), 'Indonesia': array([751270.0, 22329.0, 617936.0, 111005.0], dtype=object), 'Iran': array([1231429.0, 55337.0, 995570.0, 180522.0], dtype=object), 'Iraq': array([596193.0, 12824.0, 539817.0, 43552.0], dtype=object), 'Ireland': array([93532.0, 2248.0, 23364.0, 67920.0], dtype=object), 'Israel': array([428510.0, 3356.0, 379910.0, 45244.0], dtype=object), 'Italy': array([2129376.0, 74621.0, 1479988.0, 574767.0], dtype=object), 'Jamaica': array([12915.0, 303.0, 10532.0, 2080.0], dtype=object), 'Japan': array([239068.0, 3540.0, 193558.0, 42168.0], dtype=object), 'Jordan': array([295765.0, 3851.0, 271834.0, 20080.0], dtype=object), 'Kazakhstan': array([202060.0, 2765.0, 176774.0, 22521.0], dtype=object), 'Kenya': array([96614.0, 1681.0, 78802.0, 16131.0], dtype=object), 'Korea, South': array([62593.0, 942.0, 43578.0, 18073.0], dtype=object), 'Kosovo': array([51502.0, 1336.0, 41854.0, 8312.0], dtype=object), 'Kuwait': array([150869.0, 936.0, 146777.0, 3156.0], dtype=object), 'Kyrgyzstan': array([81156.0, 1356.0, 76148.0, 3652.0], dtype=object), 'Laos': array([41.0, 0.0, 40.0, 1.0], dtype=object), 'Latvia': array([41615.0, 644.0, 29018.0, 11953.0], dtype=object), 'Lebanon': array([183888.0, 1479.0, 127959.0, 54450.0], dtype=object), 'Lesotho': array([3206.0, 51.0, 1496.0, 1659.0], dtype=object), 'Liberia': array([1779.0, 83.0, 1406.0, 290.0], dtype=object), 'Libya': array([100744.0, 1487.0, 73252.0, 26005.0], dtype=object), 'Liechtenstein': array([2175.0, 39.0, 1810.0, 326.0], dtype=object), 'Lithuania': array([145430.0, 1837.0, 98149.0, 71286.0], dtype=object), 'Luxembourg': array([46415.0, 495.0, 40978.0, 4942.0], dtype=object), 'MS Zaandam': array([9.0, 2.0, 7.0, 0.0], dtype=object), 'Madagascar': array([17714.0, 261.0, 17228.0, 225.0], dtype=object), 'Malawi': array([6684.0, 191.0, 5708.0, 785.0], dtype=object), 'Malaysia': array([115078.0, 474.0, 91171.0, 23433.0], dtype=object), 'Maldives': array([13804.0, 48.0, 13150.0, 606.0], dtype=object), 'Mali': array([7203.0, 271.0, 4694.0, 2238.0], dtype=object), 'Malta': array([12909.0, 219.0, 11178.0, 1512.0], dtype=object), 'Marshall Islands': array([4.0, 0.0, 4.0, 0.0], dtype=object), 'Mauritania': array([14581.0, 349.0, 11652.0, 2580.0], dtype=object), 'Mauritius': array([527.0, 10.0, 496.0, 21.0], dtype=object), 'Mexico': array([1437185.0, 126507.0, 1083768.0, 226910.0], dtype=object), 'Moldova': array([145258.0, 3004.0, 131701.0, 10553.0], dtype=object), 'Monaco': array([885.0, 3.0, 718.0, 164.0], dtype=object), 'Mongolia': array([1242.0, 1.0, 855.0, 386.0], dtype=object), 'Montenegro': array([48589.0, 684.0, 38780.0, 9125.0], dtype=object), 'Morocco': array([440970.0, 7425.0, 409638.0, 23907.0], dtype=object), 'Mozambique': array([18794.0, 167.0, 16680.0, 1947.0], dtype=object), 'Namibia': array([24545.0, 208.0, 20727.0, 3610.0], dtype=object), 'Nepal': array([261019.0, 1864.0, 253107.0, 6048.0], dtype=object), 'Netherlands': array([816616.0, 11624.0, 9651.0, 795341.0], dtype=object), 'New Zealand': array([2162.0, 25.0, 2082.0, 55.0], dtype=object), 'Nicaragua': array([6046.0, 165.0, 4225.0, 1656.0], dtype=object), 'Niger': array([3403.0, 106.0, 1828.0, 1469.0], dtype=object), 'Nigeria': array([88587.0, 1294.0, 74373.0, 12920.0], dtype=object), 'North Macedonia': array([83743.0, 2510.0, 61943.0, 19290.0], dtype=object), 'Norway': array([49803.0, 436.0, 17998.0, 31369.0], dtype=object), 'Oman': array([128867.0, 1499.0, 121890.0, 5478.0], dtype=object), 'Pakistan': array([484362.0, 10258.0, 438974.0, 35130.0], dtype=object), 'Panama': array([249733.0, 4064.0, 197928.0, 47741.0], dtype=object), 'Papua New Guinea': array([780.0, 9.0, 661.0, 110.0], dtype=object), 'Paraguay': array([108349.0, 2262.0, 81977.0, 24110.0], dtype=object), 'Peru': array([1015137.0, 37680.0, 951318.0, 26139.0], dtype=object), 'Philippines': array([475820.0, 9248.0, 439895.0, 26677.0], dtype=object), 'Poland': array([1305774.0, 28956.0, 1046281.0, 230537.0], dtype=object), 'Portugal': array([420629.0, 6972.0, 338668.0, 74989.0], dtype=object), 'Qatar': array([144042.0, 245.0, 141556.0, 2241.0], dtype=object), 'Romania': array([636201.0, 15841.0, 566365.0, 53995.0], dtype=object), 'Russia': array([3153960.0, 56798.0, 2553467.0, 543695.0], dtype=object), 'Rwanda': array([8460.0, 94.0, 6598.0, 1768.0], dtype=object), 'Saint Kitts and Nevis': array([32.0, 0.0, 29.0, 3.0], dtype=object), 'Saint Lucia': array([353.0, 5.0, 289.0, 59.0], dtype=object), 'Saint Vincent and the Grenadines': array([121.0, 0.0, 98.0, 23.0], dtype=object), 'Samoa': array([2.0, 0.0, 2.0, 0.0], dtype=object), 'San Marino': array([2428.0, 59.0, 2042.0, 327.0], dtype=object), 'Sao Tome and Principe': array([1022.0, 17.0, 973.0, 32.0], dtype=object), 'Saudi Arabia': array([362878.0, 6230.0, 354081.0, 2567.0], dtype=object), 'Senegal': array([19364.0, 410.0, 17375.0, 1579.0], dtype=object), 'Serbia': array([339997.0, 3250.0, 0.0, 336747.0], dtype=object), 'Seychelles': array([256.0, 0.0, 214.0, 61.0], dtype=object), 'Sierra Leone': array([2635.0, 76.0, 1906.0, 653.0], dtype=object), 'Singapore': array([58629.0, 29.0, 58449.0, 151.0], dtype=object), 'Slovakia': array([184508.0, 2250.0, 127190.0, 55068.0], dtype=object), 'Slovenia': array([123950.0, 2728.0, 100868.0, 20354.0], dtype=object), 'Solomon Islands': array([17.0, 0.0, 5.0, 7.0], dtype=object), 'Somalia': array([4714.0, 130.0, 3612.0, 972.0], dtype=object), 'South Africa': array([1073887.0, 28887.0, 887701.0, 157299.0], dtype=object), 'South Sudan': array([3558.0, 63.0, 3131.0, 364.0], dtype=object), 'Spain': array([1928265.0, 50837.0, 150376.0, 1727052.0], dtype=object), 'Sri Lanka': array([43856.0, 208.0, 36155.0, 7493.0], dtype=object), 'Sudan': array([25730.0, 1468.0, 13524.0, 8324.0], dtype=object), 'Suriname': array([6277.0, 123.0, 5771.0, 383.0], dtype=object), 'Sweden': array([437379.0, 8727.0, 0.0, 428652.0], dtype=object), 'Switzerland': array([452296.0, 7704.0, 317600.0, 126992.0], dtype=object), 'Syria': array([11526.0, 717.0, 5420.0, 5389.0], dtype=object), 'Taiwan*': array([802.0, 7.0, 682.0, 113.0], dtype=object), 'Tajikistan': array([13296.0, 90.0, 12894.0, 312.0], dtype=object), 'Tanzania': array([509.0, 21.0, 183.0, 305.0], dtype=object), 'Thailand': array([7379.0, 64.0, 4299.0, 3016.0], dtype=object), 'Timor-Leste': array([44.0, 0.0, 32.0, 12.0], dtype=object), 'Togo': array([3662.0, 68.0, 3443.0, 151.0], dtype=object), 'Trinidad and Tobago': array([7158.0, 127.0, 6671.0, 360.0], dtype=object), 'Tunisia': array([140557.0, 4730.0, 105499.0, 30328.0], dtype=object), 'Turkey': array([2220855.0, 21093.0, 2114760.0, 85002.0], dtype=object), 'US': array([20215297.0, 355021.0, 0.0, 19780905.0], dtype=object), 'Uganda': array([35511.0, 265.0, 11878.0, 23368.0], dtype=object), 'Ukraine': array([1096855.0, 19437.0, 746680.0, 330738.0], dtype=object), 'United Arab Emirates': array([209678.0, 671.0, 186019.0, 22988.0], dtype=object), 'United Kingdom': array([2549693.0, 74237.0, 5682.0, 2469773.0], dtype=object), 'Uruguay': array([19753.0, 193.0, 13990.0, 5570.0], dtype=object), 'Uzbekistan': array([77182.0, 614.0, 75244.0, 1324.0], dtype=object), 'Vanuatu': array([1.0, 0.0, 1.0, 0.0], dtype=object), 'Venezuela': array([113884.0, 1030.0, 107901.0, 4953.0], dtype=object), 'Vietnam': array([1474.0, 35.0, 1325.0, 114.0], dtype=object), 'West Bank and Gaza': array([139223.0, 1418.0, 118926.0, 18879.0], dtype=object), 'Yemen': array([2101.0, 610.0, 1396.0, 95.0], dtype=object), 'Zambia': array([20997.0, 390.0, 18773.0, 1834.0], dtype=object), 'Zimbabwe': array([14084.0, 369.0, 11347.0, 2368.0], dtype=object)}\n"
     ]
    }
   ],
   "source": [
    "countryData = {}\n",
    "print (len(numpyArray))\n",
    "\n",
    "for i in range(len(numpyArray)-1):\n",
    "    countryName = numpyArray[i+1][3]\n",
    "    countryData[countryName] = [0,0,0,0]\n",
    "\n",
    "for i in range(len(numpyArray)-1):\n",
    "    tempArray = np.array(numpyArray[i+1][7:11])\n",
    "    \n",
    "    countryName = numpyArray[i+1][3]\n",
    "    \n",
    "\n",
    "    for j in range(len(tempArray)):\n",
    "        if isinstance(tempArray[j],str):\n",
    "            tempArray[j] = 0\n",
    "    countryData[countryName] = countryData[countryName] + tempArray\n",
    "# Confirmed, deaths, recovered, Actived\n",
    "print(countryData)"
   ]
  },
  {
   "cell_type": "code",
   "execution_count": 17,
   "metadata": {
    "tags": [
     "outputPrepend"
    ]
   },
   "outputs": [
    {
     "output_type": "stream",
     "name": "stdout",
     "text": [
      "ype=object), 'Michoacan': array([33235.0, 2764.0, 0.0, 30471.0], dtype=object), 'Morelos': array([9930.0, 1456.0, 0.0, 8474.0], dtype=object), 'Nayarit': array([7922.0, 1053.0, 0.0, 6869.0], dtype=object), 'Nuevo Leon': array([83209.0, 5202.0, 0.0, 78007.0], dtype=object), 'Oaxaca': array([28404.0, 2130.0, 0.0, 26274.0], dtype=object), 'Puebla': array([47636.0, 5755.0, 0.0, 41881.0], dtype=object), 'Queretaro': array([32582.0, 1890.0, 0.0, 30692.0], dtype=object), 'Quintana Roo': array([15968.0, 2031.0, 0.0, 13937.0], dtype=object), 'San Luis Potosi': array([39968.0, 3074.0, 0.0, 36894.0], dtype=object), 'Sinaloa': array([26847.0, 4238.0, 0.0, 22609.0], dtype=object), 'Sonora': array([52146.0, 4196.0, 0.0, 47950.0], dtype=object), 'Tabasco': array([44592.0, 3207.0, 0.0, 41385.0], dtype=object), 'Tamaulipas': array([39416.0, 3281.0, 0.0, 36135.0], dtype=object), 'Tlaxcala': array([11351.0, 1420.0, 0.0, 9931.0], dtype=object), 'Veracruz': array([43211.0, 6353.0, 0.0, 36858.0], dtype=object), 'Yucatan': array([26748.0, 2323.0, 0.0, 24425.0], dtype=object), 'Zacatecas': array([21203.0, 1771.0, 0.0, 19432.0], dtype=object), 'Aruba': array([5509.0, 49.0, 5179.0, 281.0], dtype=object), 'Bonaire, Sint Eustatius and Saba': array([196.0, 3.0, 180.0, 13.0], dtype=object), 'Curacao': array([4289.0, 16.0, 2950.0, 1323.0], dtype=object), 'Drenthe': array([13717.0, 140.0, 0.0, 13577.0], dtype=object), 'Flevoland': array([19702.0, 157.0, 0.0, 19545.0], dtype=object), 'Friesland': array([15035.0, 177.0, 0.0, 14858.0], dtype=object), 'Gelderland': array([89545.0, 1320.0, 0.0, 88225.0], dtype=object), 'Groningen': array([15255.0, 97.0, 0.0, 15158.0], dtype=object), 'Noord-Brabant': array([125767.0, 2393.0, 0.0, 123374.0], dtype=object), 'Noord-Holland': array([137776.0, 1652.0, 0.0, 136124.0], dtype=object), 'Overijssel': array([54919.0, 694.0, 0.0, 54225.0], dtype=object), 'Sint Maarten': array([1458.0, 27.0, 1342.0, 89.0], dtype=object), 'Utrecht': array([67465.0, 870.0, 0.0, 66595.0], dtype=object), 'Zeeland': array([10629.0, 129.0, 0.0, 10500.0], dtype=object), 'Zuid-Holland': array([203660.0, 2840.0, 0.0, 200820.0], dtype=object), 'Azad Jammu and Kashmir': array([8303.0, 224.0, 7691.0, 388.0], dtype=object), 'Balochistan': array([18181.0, 184.0, 17752.0, 245.0], dtype=object), 'Gilgit-Baltistan': array([4862.0, 101.0, 4713.0, 48.0], dtype=object), 'Islamabad': array([38020.0, 421.0, 34617.0, 2982.0], dtype=object), 'Khyber Pakhtunkhwa': array([59023.0, 1661.0, 53942.0, 3420.0], dtype=object), 'Sindh': array([216632.0, 3582.0, 196134.0, 16916.0], dtype=object), 'Ancash': array([30909.0, 1516.0, 0.0, 29393.0], dtype=object), 'Apurimac': array([7520.0, 159.0, 0.0, 7361.0], dtype=object), 'Arequipa': array([48339.0, 1628.0, 0.0, 46711.0], dtype=object), 'Ayacucho': array([15304.0, 377.0, 0.0, 14927.0], dtype=object), 'Cajamarca': array([25250.0, 610.0, 0.0, 24640.0], dtype=object), 'Callao': array([43393.0, 1978.0, 0.0, 41415.0], dtype=object), 'Cusco': array([25418.0, 532.0, 0.0, 24886.0], dtype=object), 'Huancavelica': array([7903.0, 147.0, 0.0, 7756.0], dtype=object), 'Huanuco': array([20492.0, 492.0, 0.0, 20000.0], dtype=object), 'Ica': array([32100.0, 1793.0, 0.0, 30307.0], dtype=object), 'Junin': array([28307.0, 964.0, 0.0, 27343.0], dtype=object), 'La Libertad': array([37341.0, 2478.0, 0.0, 34863.0], dtype=object), 'Lambayeque': array([33391.0, 1933.0, 0.0, 31458.0], dtype=object), 'Lima': array([449514.0, 16779.0, 0.0, 432735.0], dtype=object), 'Loreto': array([26403.0, 1007.0, 0.0, 25396.0], dtype=object), 'Madre de Dios': array([9603.0, 155.0, 0.0, 9448.0], dtype=object), 'Moquegua': array([16104.0, 309.0, 0.0, 15795.0], dtype=object), 'Pasco': array([6588.0, 137.0, 0.0, 6451.0], dtype=object), 'Piura': array([42790.0, 2222.0, 0.0, 40568.0], dtype=object), 'Puno': array([19379.0, 403.0, 0.0, 18976.0], dtype=object), 'San Martin': array([25818.0, 797.0, 0.0, 25021.0], dtype=object), 'Tacna': array([14736.0, 270.0, 0.0, 14466.0], dtype=object), 'Tumbes': array([9477.0, 346.0, 0.0, 9131.0], dtype=object), 'Ucayali': array([20549.0, 394.0, 0.0, 20155.0], dtype=object), 'Adygea Republic': array([11103.0, 92.0, 9085.0, 1926.0], dtype=object), 'Altai Krai': array([33124.0, 888.0, 30660.0, 1576.0], dtype=object), 'Altai Republic': array([13901.0, 103.0, 13104.0, 694.0], dtype=object), 'Amur Oblast': array([16004.0, 105.0, 14415.0, 1484.0], dtype=object), 'Arkhangelsk Oblast': array([43679.0, 443.0, 34495.0, 8741.0], dtype=object), 'Astrakhan Oblast': array([19187.0, 389.0, 12731.0, 6067.0], dtype=object), 'Bashkortostan Republic': array([19234.0, 145.0, 15153.0, 3936.0], dtype=object), 'Belgorod Oblast': array([22007.0, 262.0, 20143.0, 1602.0], dtype=object), 'Bryansk Oblast': array([23343.0, 216.0, 21566.0, 1561.0], dtype=object), 'Buryatia Republic': array([25909.0, 595.0, 23333.0, 1981.0], dtype=object), 'Chechen Republic': array([8783.0, 93.0, 4531.0, 4159.0], dtype=object), 'Chelyabinsk Oblast': array([35008.0, 542.0, 23245.0, 11221.0], dtype=object), 'Chukotka Autonomous Okrug': array([539.0, 4.0, 480.0, 55.0], dtype=object), 'Chuvashia Republic': array([16488.0, 538.0, 14867.0, 1083.0], dtype=object), 'Dagestan Republic': array([23622.0, 1124.0, 20301.0, 2197.0], dtype=object), 'Ingushetia Republic': array([12227.0, 141.0, 10149.0, 1937.0], dtype=object), 'Irkutsk Oblast': array([40785.0, 1233.0, 36091.0, 3461.0], dtype=object), 'Ivanovo Oblast': array([21444.0, 521.0, 16505.0, 4418.0], dtype=object), 'Jewish Autonomous Okrug': array([3765.0, 72.0, 2953.0, 740.0], dtype=object), 'Kabardino-Balkarian Republic': array([15926.0, 263.0, 14120.0, 1543.0], dtype=object), 'Kaliningrad Oblast': array([18013.0, 178.0, 16305.0, 1530.0], dtype=object), 'Kalmykia Republic': array([14879.0, 200.0, 12470.0, 2209.0], dtype=object), 'Kaluga Oblast': array([21222.0, 172.0, 19911.0, 1139.0], dtype=object), 'Kamchatka Krai': array([10176.0, 82.0, 8997.0, 1097.0], dtype=object), 'Karachay-Cherkess Republic': array([15215.0, 41.0, 13637.0, 1537.0], dtype=object), 'Karelia Republic': array([27910.0, 163.0, 21665.0, 6082.0], dtype=object), 'Kemerovo Oblast': array([25887.0, 470.0, 22980.0, 2437.0], dtype=object), 'Khabarovsk Krai': array([35419.0, 204.0, 31286.0, 3929.0], dtype=object), 'Khakassia Republic': array([17680.0, 264.0, 14727.0, 2689.0], dtype=object), 'Khanty-Mansi Autonomous Okrug': array([41514.0, 544.0, 37963.0, 3007.0], dtype=object), 'Kirov Oblast': array([25864.0, 230.0, 19403.0, 6231.0], dtype=object), 'Komi Republic': array([30606.0, 578.0, 28439.0, 1589.0], dtype=object), 'Kostroma Oblast': array([15102.0, 235.0, 11397.0, 3470.0], dtype=object), 'Krasnodar Krai': array([27922.0, 946.0, 18783.0, 8193.0], dtype=object), 'Krasnoyarsk Krai': array([46833.0, 1725.0, 41500.0, 3608.0], dtype=object), 'Kurgan Oblast': array([12102.0, 170.0, 10678.0, 1254.0], dtype=object), 'Kursk Oblast': array([20980.0, 305.0, 19071.0, 1604.0], dtype=object), 'Leningrad Oblast': array([24056.0, 265.0, 21690.0, 2101.0], dtype=object), 'Lipetsk Oblast': array([16192.0, 258.0, 12378.0, 3556.0], dtype=object), 'Magadan Oblast': array([7048.0, 65.0, 6542.0, 441.0], dtype=object), 'Mari El Republic': array([9234.0, 121.0, 8219.0, 894.0], dtype=object), 'Mordovia Republic': array([13578.0, 95.0, 11225.0, 2258.0], dtype=object), 'Moscow': array([815676.0, 11280.0, 633702.0, 170694.0], dtype=object), 'Moscow Oblast': array([156898.0, 2914.0, 113744.0, 40240.0], dtype=object), 'Murmansk Oblast': array([36363.0, 655.0, 33259.0, 2449.0], dtype=object), 'Nenets Autonomous Okrug': array([796.0, 0.0, 697.0, 99.0], dtype=object), 'Nizhny Novgorod Oblast': array([70321.0, 1663.0, 62602.0, 6056.0], dtype=object), 'North Ossetia - Alania Republic': array([12098.0, 101.0, 10700.0, 1297.0], dtype=object), 'Novgorod Oblast': array([18520.0, 99.0, 13825.0, 4596.0], dtype=object), 'Novosibirsk Oblast': array([28037.0, 974.0, 24240.0, 2823.0], dtype=object), 'Omsk Oblast': array([30368.0, 878.0, 27683.0, 1807.0], dtype=object), 'Orel Oblast': array([21544.0, 270.0, 19579.0, 1695.0], dtype=object), 'Orenburg Oblast': array([28922.0, 345.0, 25363.0, 3214.0], dtype=object), 'Penza Oblast': array([26244.0, 321.0, 21188.0, 4735.0], dtype=object), 'Perm Krai': array([30956.0, 1143.0, 25114.0, 4699.0], dtype=object), 'Primorsky Krai': array([29522.0, 379.0, 21247.0, 7896.0], dtype=object), 'Pskov Oblast': array([23598.0, 100.0, 12179.0, 11319.0], dtype=object), 'Rostov Oblast': array([52043.0, 2077.0, 42352.0, 7614.0], dtype=object), 'Ryazan Oblast': array([18296.0, 162.0, 16764.0, 1370.0], dtype=object), 'Saint Petersburg': array([245870.0, 7769.0, 151505.0, 86596.0], dtype=object), 'Sakha (Yakutiya) Republic': array([26547.0, 394.0, 24026.0, 2127.0], dtype=object), 'Sakhalin Oblast': array([15886.0, 17.0, 13460.0, 2409.0], dtype=object), 'Samara Oblast': array([31704.0, 618.0, 29316.0, 1770.0], dtype=object), 'Saratov Oblast': array([35596.0, 421.0, 30519.0, 4656.0], dtype=object), 'Smolensk Oblast': array([17215.0, 337.0, 13823.0, 3055.0], dtype=object), 'Stavropol Krai': array([35325.0, 740.0, 31909.0, 2676.0], dtype=object), 'Sverdlovsk Oblast': array([58980.0, 1527.0, 51326.0, 6127.0], dtype=object), 'Tambov Oblast': array([17810.0, 188.0, 15982.0, 1640.0], dtype=object), 'Tatarstan Republic': array([13375.0, 186.0, 10738.0, 2451.0], dtype=object), 'Tomsk Oblast': array([24600.0, 218.0, 20299.0, 4083.0], dtype=object), 'Tula Oblast': array([23056.0, 760.0, 20243.0, 2053.0], dtype=object), 'Tver Oblast': array([22503.0, 456.0, 17884.0, 4163.0], dtype=object), 'Tyumen Oblast': array([23523.0, 204.0, 22147.0, 1172.0], dtype=object), 'Tyva Republic': array([14791.0, 157.0, 13621.0, 1013.0], dtype=object), 'Udmurt Republic': array([19854.0, 388.0, 16211.0, 3255.0], dtype=object), 'Ulyanovsk Oblast': array([36589.0, 474.0, 33625.0, 2490.0], dtype=object), 'Vladimir Oblast': array([18739.0, 510.0, 16931.0, 1298.0], dtype=object), 'Volgograd Oblast': array([35699.0, 464.0, 33919.0, 1316.0], dtype=object), 'Vologda Oblast': array([23761.0, 438.0, 19039.0, 4284.0], dtype=object), 'Voronezh Oblast': array([46589.0, 1175.0, 43968.0, 1446.0], dtype=object), 'Yamalo-Nenets Autonomous Okrug': array([32273.0, 336.0, 25074.0, 6863.0], dtype=object), 'Yaroslavl Oblast': array([22483.0, 194.0, 21094.0, 1195.0], dtype=object), 'Zabaykalsky Krai': array([27480.0, 386.0, 25377.0, 1717.0], dtype=object), 'Andalusia': array([264371.0, 5123.0, 10671.0, 248577.0], dtype=object), 'Aragon': array([80023.0, 2634.0, 3772.0, 73617.0], dtype=object), 'Asturias': array([27171.0, 1343.0, 1063.0, 24765.0], dtype=object), 'Baleares': array([35569.0, 469.0, 1533.0, 33567.0], dtype=object), 'C. Valenciana': array([148797.0, 2941.0, 9970.0, 135886.0], dtype=object), 'Canarias': array([26859.0, 415.0, 1537.0, 24907.0], dtype=object), 'Cantabria': array([17948.0, 393.0, 2287.0, 15268.0], dtype=object), 'Castilla - La Mancha': array([100673.0, 4086.0, 6392.0, 90195.0], dtype=object), 'Castilla y Leon': array([132611.0, 5081.0, 8716.0, 118814.0], dtype=object), 'Catalonia': array([356724.0, 8723.0, 26203.0, 321798.0], dtype=object), 'Ceuta': array([3072.0, 59.0, 163.0, 2850.0], dtype=object), 'Extremadura': array([37208.0, 1067.0, 2652.0, 33489.0], dtype=object), 'Galicia': array([61143.0, 1379.0, 9204.0, 50560.0], dtype=object), 'La Rioja': array([18426.0, 586.0, 3107.0, 14733.0], dtype=object), 'Madrid': array([399499.0, 11828.0, 40736.0, 346935.0], dtype=object), 'Melilla': array([4540.0, 43.0, 125.0, 4372.0], dtype=object), 'Murcia': array([60316.0, 744.0, 2180.0, 57392.0], dtype=object), 'Navarra': array([42494.0, 960.0, 3905.0, 37629.0], dtype=object), 'Pais Vasco': array([110821.0, 2963.0, 16160.0, 91698.0], dtype=object), 'Blekinge': array([4698.0, 44.0, 0.0, 4654.0], dtype=object), 'Dalarna': array([10603.0, 225.0, 0.0, 10378.0], dtype=object), 'Gavleborg': array([14484.0, 319.0, 0.0, 14165.0], dtype=object), 'Gotland': array([2202.0, 28.0, 0.0, 2174.0], dtype=object), 'Halland': array([12380.0, 140.0, 0.0, 12240.0], dtype=object), 'Jamtland Harjedalen': array([4446.0, 85.0, 0.0, 4361.0], dtype=object), 'Jonkoping': array([17129.0, 331.0, 0.0, 16798.0], dtype=object), 'Kalmar': array([6455.0, 102.0, 0.0, 6353.0], dtype=object), 'Kronoberg': array([8607.0, 197.0, 0.0, 8410.0], dtype=object), 'Norrbotten': array([7646.0, 133.0, 0.0, 7513.0], dtype=object), 'Orebro': array([13265.0, 218.0, 0.0, 13047.0], dtype=object), 'Ostergotland': array([13869.0, 360.0, 0.0, 13509.0], dtype=object), 'Skane': array([66753.0, 667.0, 0.0, 66086.0], dtype=object), 'Sormland': array([9036.0, 308.0, 0.0, 8728.0], dtype=object), 'Stockholm': array([118357.0, 3271.0, 0.0, 115086.0], dtype=object), 'Uppsala': array([17704.0, 352.0, 0.0, 17352.0], dtype=object), 'Varmland': array([5972.0, 122.0, 0.0, 5850.0], dtype=object), 'Vasterbotten': array([8278.0, 83.0, 0.0, 8195.0], dtype=object), 'Vasternorrland': array([10138.0, 225.0, 0.0, 9913.0], dtype=object), 'Vastmanland': array([13566.0, 260.0, 0.0, 13306.0], dtype=object), 'Vastra Gotaland': array([71791.0, 1257.0, 0.0, 70534.0], dtype=object), 'Alabama': array([365747.0, 4872.0, 0.0, 360875.0], dtype=object), 'Alaska': array([46986.0, 206.0, 0.0, 46780.0], dtype=object), 'Arizona': array([530267.0, 9015.0, 0.0, 521252.0], dtype=object), 'Arkansas': array([229442.0, 3711.0, 0.0, 225731.0], dtype=object), 'California': array([2365024.0, 26363.0, 0.0, 2309915.0], dtype=object), 'Colorado': array([337161.0, 4873.0, 0.0, 332288.0], dtype=object), 'Connecticut': array([185708.0, 5995.0, 0.0, 179713.0], dtype=object), 'Delaware': array([58064.0, 1065.0, 0.0, 57134.0], dtype=object), 'District of Columbia': array([29252.0, 788.0, 0.0, 28464.0], dtype=object), 'Florida': array([1323315.0, 21673.0, 0.0, 1301642.0], dtype=object), 'Georgia': array([677589.0, 10958.0, 0.0, 666631.0], dtype=object), 'Guam': array([7326.0, 122.0, 0.0, 7204.0], dtype=object), 'Hawaii': array([22022.0, 289.0, 0.0, 21733.0], dtype=object), 'Idaho': array([141077.0, 1436.0, 0.0, 139641.0], dtype=object), 'Illinois': array([963389.0, 17978.0, 0.0, 945411.0], dtype=object), 'Indiana': array([517773.0, 9468.0, 0.0, 509402.0], dtype=object), 'Iowa': array([282980.0, 3898.0, 0.0, 279082.0], dtype=object), 'Kansas': array([230108.0, 2872.0, 0.0, 227431.0], dtype=object), 'Kentucky': array([265261.0, 2623.0, 0.0, 262638.0], dtype=object), 'Louisiana': array([315275.0, 7488.0, 0.0, 307787.0], dtype=object), 'Maine': array([24902.0, 352.0, 0.0, 24550.0], dtype=object), 'Maryland': array([280219.0, 5942.0, 0.0, 274277.0], dtype=object), 'Massachusetts': array([375178.0, 12423.0, 0.0, 362755.0], dtype=object), 'Michigan': array([528621.0, 13018.0, 0.0, 515603.0], dtype=object), 'Minnesota': array([415302.0, 5382.0, 0.0, 409920.0], dtype=object), 'Mississippi': array([218386.0, 4816.0, 0.0, 213570.0], dtype=object), 'Missouri': array([408006.0, 5717.0, 0.0, 401764.0], dtype=object), 'Montana': array([81555.0, 961.0, 0.0, 80594.0], dtype=object), 'Nebraska': array([167716.0, 1668.0, 0.0, 166048.0], dtype=object), 'Nevada': array([227046.0, 3143.0, 0.0, 223903.0], dtype=object), 'New Hampshire': array([45932.0, 759.0, 0.0, 43269.0], dtype=object), 'New Jersey': array([535043.0, 19160.0, 0.0, 463701.0], dtype=object), 'New Mexico': array([144142.0, 2502.0, 0.0, 141640.0], dtype=object), 'New York': array([995816.0, 38155.0, 0.0, 957661.0], dtype=object), 'North Carolina': array([539545.0, 6748.0, 0.0, 532797.0], dtype=object), 'North Dakota': array([92770.0, 1316.0, 0.0, 91461.0], dtype=object), 'Northern Mariana Islands': array([122.0, 2.0, 0.0, 120.0], dtype=object), 'Ohio': array([700380.0, 14602.0, 0.0, 691418.0], dtype=object), 'Oklahoma': array([290936.0, 2489.0, 0.0, 288447.0], dtype=object), 'Oregon': array([113909.0, 1477.0, 0.0, 112432.0], dtype=object), 'Pennsylvania': array([652091.0, 16155.0, 0.0, 635936.0], dtype=object), 'Puerto Rico': array([77054.0, 1521.0, 0.0, 75533.0], dtype=object), 'Recovered': array([0.0, 0.0, 0.0, 0.0], dtype=object), 'Rhode Island': array([87949.0, 1944.0, 0.0, 86172.0], dtype=object), 'South Carolina': array([307507.0, 5296.0, 0.0, 302211.0], dtype=object), 'South Dakota': array([99164.0, 1488.0, 0.0, 97676.0], dtype=object), 'Tennessee': array([586802.0, 6907.0, 0.0, 579895.0], dtype=object), 'Texas': array([1782956.0, 28359.0, 0.0, 1751342.0], dtype=object), 'Utah': array([276612.0, 1269.0, 0.0, 275343.0], dtype=object), 'Vermont': array([7412.0, 136.0, 0.0, 7276.0], dtype=object), 'Virgin Islands': array([2036.0, 23.0, 0.0, 2013.0], dtype=object), 'Virginia': array([354766.0, 5081.0, 0.0, 349685.0], dtype=object), 'Washington': array([246752.0, 3461.0, 0.0, 243291.0], dtype=object), 'West Virginia': array([87820.0, 1361.0, 0.0, 86459.0], dtype=object), 'Wisconsin': array([522523.0, 5254.0, 0.0, 517269.0], dtype=object), 'Wyoming': array([44409.0, 438.0, 0.0, 43971.0], dtype=object), 'Cherkasy Oblast': array([39351.0, 397.0, 23213.0, 15741.0], dtype=object), 'Chernihiv Oblast': array([30234.0, 442.0, 16984.0, 12808.0], dtype=object), 'Chernivtsi Oblast': array([40225.0, 786.0, 29258.0, 10181.0], dtype=object), 'Crimea Republic*': array([25527.0, 517.0, 20306.0, 4704.0], dtype=object), 'Dnipropetrovsk Oblast': array([58991.0, 1426.0, 45557.0, 12008.0], dtype=object), 'Donetsk Oblast': array([36909.0, 704.0, 28321.0, 7884.0], dtype=object), 'Ivano-Frankivsk Oblast': array([43341.0, 810.0, 30296.0, 12235.0], dtype=object), 'Kharkiv Oblast': array([70090.0, 1104.0, 56871.0, 12115.0], dtype=object), 'Kherson Oblast': array([17906.0, 439.0, 9560.0, 7907.0], dtype=object), 'Khmelnytskyi Oblast': array([39692.0, 684.0, 33755.0, 5253.0], dtype=object), 'Kiev': array([112356.0, 1935.0, 39911.0, 70510.0], dtype=object), 'Kiev Oblast': array([59831.0, 976.0, 36191.0, 22664.0], dtype=object), 'Kirovohrad Oblast': array([8522.0, 254.0, 4371.0, 3897.0], dtype=object), 'Luhansk Oblast': array([10830.0, 299.0, 7708.0, 2823.0], dtype=object), 'Lviv Oblast': array([61696.0, 1781.0, 46697.0, 13218.0], dtype=object), 'Mykolaiv Oblast': array([31314.0, 516.0, 14458.0, 16340.0], dtype=object), 'Odessa Oblast': array([71669.0, 1062.0, 45318.0, 25289.0], dtype=object), 'Poltava Oblast': array([36598.0, 752.0, 28482.0, 7364.0], dtype=object), 'Rivne Oblast': array([41275.0, 517.0, 37029.0, 3729.0], dtype=object), 'Sevastopol*': array([6849.0, 240.0, 6365.0, 244.0], dtype=object), 'Sumy Oblast': array([40989.0, 529.0, 34513.0, 5947.0], dtype=object), 'Ternopil Oblast': array([34194.0, 460.0, 30260.0, 3474.0], dtype=object), 'Vinnytsia Oblast': array([22735.0, 399.0, 15347.0, 6989.0], dtype=object), 'Volyn Oblast': array([33207.0, 516.0, 28923.0, 3768.0], dtype=object), 'Zakarpattia Oblast': array([28313.0, 638.0, 23717.0, 3958.0], dtype=object), 'Zaporizhia Oblast': array([54607.0, 594.0, 21166.0, 32847.0], dtype=object), 'Zhytomyr Oblast': array([39604.0, 660.0, 32103.0, 6841.0], dtype=object), 'Anguilla': array([13.0, 0.0, 12.0, 1.0], dtype=object), 'Bermuda': array([604.0, 10.0, 445.0, 149.0], dtype=object), 'British Virgin Islands': array([86.0, 1.0, 74.0, 11.0], dtype=object), 'Cayman Islands': array([338.0, 2.0, 294.0, 42.0], dtype=object), 'Channel Islands': array([3059.0, 60.0, 2445.0, 554.0], dtype=object), 'England': array([2190702.0, 64731.0, 0.0, 2125971.0], dtype=object), 'Falkland Islands (Malvinas)': array([29.0, 0.0, 17.0, 12.0], dtype=object), 'Gibraltar': array([2212.0, 7.0, 1249.0, 956.0], dtype=object), 'Isle of Man': array([377.0, 25.0, 348.0, 4.0], dtype=object), 'Montserrat': array([13.0, 1.0, 12.0, 0.0], dtype=object), 'Northern Ireland': array([72834.0, 1322.0, 0.0, 71512.0], dtype=object), 'Saint Helena, Ascension and Tristan da Cunha': array([4.0, 0.0, 3.0, 0.0], dtype=object), 'Scotland': array([129992.0, 4578.0, 0.0, 125414.0], dtype=object), 'Turks and Caicos Islands': array([893.0, 6.0, 783.0, 104.0], dtype=object), 'Wales': array([148537.0, 3494.0, 0.0, 145043.0], dtype=object)}\n"
     ]
    }
   ],
   "source": [
    "provinceData = {}\n",
    "print (len(numpyArray))\n",
    "\n",
    "for i in range(len(numpyArray)-1):\n",
    "    provinceName = numpyArray[i+1][2]\n",
    "    provinceData[provinceName] = [0,0,0,0]\n",
    "\n",
    "for i in range(len(numpyArray)-1):\n",
    "    tempArray = np.array(numpyArray[i+1][7:11])\n",
    "    \n",
    "    provinceName = numpyArray[i+1][2]\n",
    "    \n",
    "\n",
    "    for j in range(len(tempArray)):\n",
    "        if isinstance(tempArray[j],str):\n",
    "            tempArray[j] = 0\n",
    "    provinceData[provinceName] = provinceData[provinceName] + tempArray\n",
    "\n",
    "print(provinceData)"
   ]
  },
  {
   "cell_type": "code",
   "execution_count": 20,
   "metadata": {},
   "outputs": [
    {
     "output_type": "error",
     "ename": "TypeError",
     "evalue": "quickSort() missing 2 required positional arguments: 'low' and 'high'",
     "traceback": [
      "\u001b[1;31m---------------------------------------------------------------------------\u001b[0m",
      "\u001b[1;31mTypeError\u001b[0m                                 Traceback (most recent call last)",
      "\u001b[1;32m<ipython-input-20-92d636cd4a61>\u001b[0m in \u001b[0;36m<module>\u001b[1;34m\u001b[0m\n\u001b[0;32m     51\u001b[0m \u001b[0marr\u001b[0m \u001b[1;33m=\u001b[0m \u001b[1;33m[\u001b[0m\u001b[1;36m10\u001b[0m\u001b[1;33m,\u001b[0m \u001b[1;36m7\u001b[0m\u001b[1;33m,\u001b[0m \u001b[1;36m8\u001b[0m\u001b[1;33m,\u001b[0m \u001b[1;36m9\u001b[0m\u001b[1;33m,\u001b[0m \u001b[1;36m1\u001b[0m\u001b[1;33m,\u001b[0m \u001b[1;36m5\u001b[0m\u001b[1;33m]\u001b[0m\u001b[1;33m\u001b[0m\u001b[1;33m\u001b[0m\u001b[0m\n\u001b[0;32m     52\u001b[0m \u001b[0mn\u001b[0m \u001b[1;33m=\u001b[0m \u001b[0mlen\u001b[0m\u001b[1;33m(\u001b[0m\u001b[0marr\u001b[0m\u001b[1;33m)\u001b[0m\u001b[1;33m\u001b[0m\u001b[1;33m\u001b[0m\u001b[0m\n\u001b[1;32m---> 53\u001b[1;33m \u001b[0mquickSort\u001b[0m\u001b[1;33m(\u001b[0m\u001b[0marr\u001b[0m\u001b[1;33m,\u001b[0m \u001b[1;36m0\u001b[0m\u001b[1;33m,\u001b[0m \u001b[0mn\u001b[0m\u001b[1;33m-\u001b[0m\u001b[1;36m1\u001b[0m\u001b[1;33m)\u001b[0m\u001b[1;33m\u001b[0m\u001b[1;33m\u001b[0m\u001b[0m\n\u001b[0m\u001b[0;32m     54\u001b[0m \u001b[0mprint\u001b[0m\u001b[1;33m(\u001b[0m\u001b[1;34m\"Sorted array is:\"\u001b[0m\u001b[1;33m)\u001b[0m\u001b[1;33m\u001b[0m\u001b[1;33m\u001b[0m\u001b[0m\n\u001b[0;32m     55\u001b[0m \u001b[1;32mfor\u001b[0m \u001b[0mi\u001b[0m \u001b[1;32min\u001b[0m \u001b[0mrange\u001b[0m\u001b[1;33m(\u001b[0m\u001b[0mn\u001b[0m\u001b[1;33m)\u001b[0m\u001b[1;33m:\u001b[0m\u001b[1;33m\u001b[0m\u001b[1;33m\u001b[0m\u001b[0m\n",
      "\u001b[1;31mTypeError\u001b[0m: quickSort() missing 2 required positional arguments: 'low' and 'high'"
     ]
    }
   ],
   "source": [
    "\n",
    "# Python program for implementation of Quicksort Sort \n",
    "  \n",
    "# This function takes last element as pivot, places \n",
    "# the pivot element at its correct position in sorted \n",
    "# array, and places all smaller (smaller than pivot) \n",
    "# to left of pivot and all greater elements to right \n",
    "# of pivot \n",
    "  \n",
    "\n",
    "def partition(dict, dictValue, arr, low, high): \n",
    "    i = (low-1)         # index of smaller element \n",
    "    pivot = dict[arr[high]][dictValue]     # pivot \n",
    "  \n",
    "    for j in range(low, high): \n",
    "  \n",
    "        # If current element is smaller than or \n",
    "        # equal to pivot \n",
    "        if arr[j] <= pivot: \n",
    "  \n",
    "            # increment index of smaller element \n",
    "            i = i+1\n",
    "            arr[i], arr[j] = arr[j], arr[i] \n",
    "  \n",
    "    arr[i+1], arr[high] = arr[high], arr[i+1] \n",
    "    return (i+1) \n",
    "  \n",
    "# The main function that implements QuickSort \n",
    "# arr[] --> Array to be sorted, \n",
    "# low  --> Starting index, \n",
    "# high  --> Ending index \n",
    "  \n",
    "# Function to do Quick sort \n",
    "  \n",
    "  \n",
    "def quickSort(dict, dictValue, arr, low, high): \n",
    "    if len(arr) == 1: \n",
    "        return arr \n",
    "    if low < high: \n",
    "  \n",
    "        # pi is partitioning index, arr[p] is now \n",
    "        # at right place \n",
    "        pi = partition(dict,dictValue,arr, low, high) \n",
    "  \n",
    "        # Separately sort elements before \n",
    "        # partition and after partition \n",
    "        quickSort(dict,dictValue,arr, low, pi-1) \n",
    "        quickSort(dict,dictValue,arr, pi+1, high) \n",
    "  \n",
    "  \n",
    "# Driver code to test above \n",
    "arr = [10, 7, 8, 9, 1, 5] \n",
    "n = len(arr) \n",
    "quickSort(arr, 0, n-1) \n",
    "print(\"Sorted array is:\") \n",
    "for i in range(n): \n",
    "    print(\"%d\" % arr[i]), \n",
    "  \n",
    "# This code is contributed by Mohit Kumra \n",
    "#This code in improved by https://github.com/anushkrishnav \n",
    "countryList=countryData.keys()\n",
    "partition(countryData,0,countryList,(0),(len(numpyArray)-1))\n"
   ]
  },
  {
   "cell_type": "code",
   "execution_count": null,
   "metadata": {},
   "outputs": [],
   "source": [
    "partition(countryData,)"
   ]
  }
 ]
}